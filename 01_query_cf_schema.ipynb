{
 "cells": [
  {
   "cell_type": "code",
   "execution_count": 1,
   "metadata": {},
   "outputs": [],
   "source": [
    "import boto3\n",
    "import json"
   ]
  },
  {
   "cell_type": "code",
   "execution_count": 4,
   "metadata": {},
   "outputs": [],
   "source": [
    "# Expired\n",
    "client = boto3.client(\n",
    "    'cloudformation',\n",
    "    region_name='us-east-1',\n",
    "    aws_access_key_id=\"\",\n",
    "    aws_secret_access_key=\"\",\n",
    "    aws_session_token=\"\"\n",
    ")"
   ]
  },
  {
   "cell_type": "code",
   "execution_count": 6,
   "metadata": {},
   "outputs": [
    {
     "data": {
      "text/plain": [
       "'arn:aws:cloudformation:us-east-1::type/resource/AWS-Amplify-App'"
      ]
     },
     "execution_count": 6,
     "metadata": {},
     "output_type": "execute_result"
    }
   ],
   "source": [
    "# Test\n",
    "response = client.describe_type(\n",
    "        Type='RESOURCE',\n",
    "        TypeName=\"AWS::Amplify::App\"\n",
    "    )\n",
    "response[\"Arn\"]"
   ]
  },
  {
   "cell_type": "code",
   "execution_count": 21,
   "metadata": {},
   "outputs": [],
   "source": [
    "def get_patterns(type_name):\n",
    "    response = client.describe_type(\n",
    "        Type='RESOURCE',\n",
    "        TypeName=type_name\n",
    "    )\n",
    "    return json.loads(response[\"Schema\"])[\"properties\"]"
   ]
  },
  {
   "cell_type": "code",
   "execution_count": 31,
   "metadata": {},
   "outputs": [
    {
     "data": {
      "text/plain": [
       "883"
      ]
     },
     "execution_count": 31,
     "metadata": {},
     "output_type": "execute_result"
    }
   ],
   "source": [
    "# Get list of services to query\n",
    "list_of_type_names = [] \n",
    "with open('rules-generation/services_with_pattern_in_cf_resource_provider_schema.txt') as f:\n",
    "    list_of_type_names = [line.rstrip() for line in f]\n",
    "len(list_of_type_names)"
   ]
  },
  {
   "cell_type": "code",
   "execution_count": 32,
   "metadata": {},
   "outputs": [],
   "source": [
    "rules_json = {}\n",
    "for type_name in list_of_type_names:\n",
    "    try:\n",
    "    \n",
    "        rules_json[type_name] = get_patterns(type_name)\n",
    "\n",
    "    except Exception:\n",
    "        print(type_name, \"not found\")"
   ]
  },
  {
   "cell_type": "code",
   "execution_count": null,
   "metadata": {},
   "outputs": [],
   "source": [
    "# Serializing json\n",
    "json_object = json.dumps(rules_json, indent=4)\n",
    " \n",
    "# Writing to sample.json\n",
    "with open(\"rules/rules_cf_resource_provider_schema.json\", \"w\") as outfile:\n",
    "    outfile.write(json_object)"
   ]
  },
  {
   "cell_type": "code",
   "execution_count": null,
   "metadata": {},
   "outputs": [],
   "source": []
  }
 ],
 "metadata": {
  "kernelspec": {
   "display_name": "Python 3",
   "language": "python",
   "name": "python3"
  },
  "language_info": {
   "codemirror_mode": {
    "name": "ipython",
    "version": 3
   },
   "file_extension": ".py",
   "mimetype": "text/x-python",
   "name": "python",
   "nbconvert_exporter": "python",
   "pygments_lexer": "ipython3",
   "version": "3.10.1"
  },
  "orig_nbformat": 4,
  "vscode": {
   "interpreter": {
    "hash": "26de051ba29f2982a8de78e945f0abaf191376122a1563185a90213a26c5da77"
   }
  }
 },
 "nbformat": 4,
 "nbformat_minor": 2
}
